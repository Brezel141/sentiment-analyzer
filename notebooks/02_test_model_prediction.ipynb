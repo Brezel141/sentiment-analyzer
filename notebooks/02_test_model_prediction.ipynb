{
 "cells": [
  {
   "cell_type": "code",
   "execution_count": 2,
   "id": "9a3389c6-4658-47c7-a4f3-e46bb104ffdc",
   "metadata": {},
   "outputs": [
    {
     "name": "stdout",
     "output_type": "stream",
     "text": [
      "Predicted sentiment: negative\n"
     ]
    }
   ],
   "source": [
    "# Import required libraries\n",
    "import joblib\n",
    "import re\n",
    "import string\n",
    "\n",
    "# Define the same cleaning function used during training\n",
    "def clean_text(text):\n",
    "    text = re.sub(r'<.*?>', '', text)\n",
    "    text = text.lower()\n",
    "    text = text.translate(str.maketrans('', '', string.punctuation))\n",
    "    text = re.sub(r'[^a-z\\s]', '', text)\n",
    "    text = re.sub(r'\\s+', ' ', text).strip()\n",
    "    return text\n",
    "\n",
    "# Load the trained model and the vectorizer\n",
    "model = joblib.load(\"../models/logreg_model.pkl\")\n",
    "tfidf = joblib.load(\"../models/tfidf_vectorizer.pkl\")\n",
    "\n",
    "# Input your own test sentence\n",
    "text = \"This movie was a total disaster. Bad acting, terrible plot.\"\n",
    "\n",
    "# Clean the input using the same function\n",
    "cleaned = clean_text(text)\n",
    "\n",
    "# Convert the cleaned text to vector form\n",
    "vector = tfidf.transform([cleaned])\n",
    "\n",
    "# Make prediction\n",
    "prediction = model.predict(vector)[0]\n",
    "\n",
    "# Convert numeric prediction to label\n",
    "label = \"positive\" if prediction == 1 else \"negative\"\n",
    "print(f\"Predicted sentiment: {label}\")\n"
   ]
  },
  {
   "cell_type": "code",
   "execution_count": null,
   "id": "dae56f4d-9256-4146-8b21-83f1ea7d8d85",
   "metadata": {},
   "outputs": [],
   "source": []
  }
 ],
 "metadata": {
  "kernelspec": {
   "display_name": "Python (sentiment-env)",
   "language": "python",
   "name": "sentiment-env"
  },
  "language_info": {
   "codemirror_mode": {
    "name": "ipython",
    "version": 3
   },
   "file_extension": ".py",
   "mimetype": "text/x-python",
   "name": "python",
   "nbconvert_exporter": "python",
   "pygments_lexer": "ipython3",
   "version": "3.12.3"
  }
 },
 "nbformat": 4,
 "nbformat_minor": 5
}
